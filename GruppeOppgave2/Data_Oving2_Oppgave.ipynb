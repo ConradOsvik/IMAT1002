{
 "cells": [
  {
   "cell_type": "markdown",
   "id": "b87bb284",
   "metadata": {},
   "source": [
    "# Øving 2\n",
    "\n",
    "Vi henviser til introduksjonsforelesningen for mer informasjon.\n"
   ]
  },
  {
   "cell_type": "markdown",
   "id": "8f82f2c7",
   "metadata": {},
   "source": [
    "## Nettverk og matriser\n",
    "\n",
    "En graf (nei ikke en graf som i matte 1) består av en mengde noder og en mengde pil. Hver pil ligger mellom to noder. Vi kommer til å gjøre det litt enklere ved at det er maks en pil mellom hvert par av noder. Vi tillater ikke løkker.\n",
    "\n",
    "På hver pil kan vi legge et tall som vi kaller vekten til pilen. Hvis et nettverk ikke har vekter, så vil hver pil ha vekt $1$. Piler med vekt $0$ er ikke med i nettverket.\n",
    "\n",
    "Vi bruker numpy for matematiske beregninger.\n"
   ]
  },
  {
   "cell_type": "code",
   "execution_count": 1,
   "id": "2b34fed9",
   "metadata": {},
   "outputs": [],
   "source": [
    "import numpy as np"
   ]
  },
  {
   "cell_type": "markdown",
   "id": "9966412f",
   "metadata": {},
   "source": [
    "Du kommer til å lære mye om nettverk igjennom bachelorgraden din. Både i matematikk 2 og i andre fag. Vi kommer ikke til å gå noe i dybden her. \n",
    "\n",
    "Det eneste vi trenger akkurat nå er \"hva er et nettverk\" og at \"nettverk = matriser\". Vi henviser til introduksjonsforelesningen for mer informasjon.\n",
    "\n",
    "Vi kommer til å bruke tallene $0,1,\\cdots,n$ som navn på nodene i nettverket.\n",
    "\n",
    "Vi kan beskrive et nettverk som en liste tupler, hvor en tuppel $(i,j,w)$ betyr at det er en pil fra node $i$ til node $j$ med vekt $w$.\n",
    "\n",
    "I en matrise så har vi tall $A[i,j]$. Vi kan tolke $A[i,j] = w$ som at det er en pil i nettverket fra $i$ til $j$ med vekt $0$. Det betyr egentlig at vi foretrekker å jobbe med radvektorer i denne øvingen.\n",
    "\n",
    "Vi kunne også ha tolket $A[i,j]=w$ som at det er en pil $j$ til $i$ med vekt $w$. Det betyr at vi foretrekker å jobbe med kolonnevektorer.\n",
    "\n",
    "Vi tillater ikke løkker i nettverket vårt. Det betyr at tallene på diagonalen ikke blir brukt. I alle eksemplene vi skal se på så skal summen i hver rad være lik $0$. Det betyr at vi må sette et negativt tall (lik minus av summen av de andre tallene i raden) i på diagonalplassen i hver rad.\n",
    "\n",
    "I programmet under så har vi et nettverk og en matrise. De inneholder akkurat samme informasjon. Pass på at du forstår hvordan dette henger sammen før du går videre."
   ]
  },
  {
   "cell_type": "code",
   "execution_count": 2,
   "id": "9bb79a30",
   "metadata": {},
   "outputs": [
    {
     "name": "stdout",
     "output_type": "stream",
     "text": [
      "Vi har nettverket [(0, 1, 2.0), (1, 0, 3.0), (0, 2, 4.0), (2, 0, 5.0)] som har 4 piler\n",
      "Vi har matrisen M\n",
      " [[-6.  2.  4.]\n",
      " [ 3. -3.  0.]\n",
      " [ 5.  0. -5.]]\n",
      "Matrisen M og nettverket N beskriver akkurat samme informasjon\n"
     ]
    }
   ],
   "source": [
    "N = [(0, 1, 2.0), (1, 0, 3.0), (0, 2, 4.0), (2,0,5.0)]\n",
    "print(\"Vi har nettverket\",N,\"som har\",len(N),\"piler\")\n",
    "\n",
    "M = np.array([[-6.0, 2.0, 4.0],[3.0, -3.0, 0.0], [5.0, 0.0, -5.0]])\n",
    "print(\"Vi har matrisen M\\n\",M)\n",
    "print(\"Matrisen M og nettverket N beskriver akkurat samme informasjon\")"
   ]
  },
  {
   "cell_type": "markdown",
   "id": "b51321b1",
   "metadata": {},
   "source": [
    "## Oppgave 1\n",
    "\n",
    "a) Programmer funksjoner som tar et nettverk med et gitt antall noder som input og som returnerer den tilhørende matrisen.\n",
    "\n",
    "b) Programmer en funksjon som tar en matrise som input og returnerer det tilhørende nettverket\n",
    "\n",
    "Test funksjonene og forsikre deg om at alt er riktig før du går videre."
   ]
  },
  {
   "cell_type": "code",
   "execution_count": 32,
   "id": "52fa5c2a",
   "metadata": {},
   "outputs": [
    {
     "name": "stdout",
     "output_type": "stream",
     "text": [
      "[[-6.  2.  4.]\n",
      " [ 3. -3.  0.]\n",
      " [ 5.  0. -5.]]\n",
      "[(0, 1, 2.0), (0, 2, 4.0), (1, 0, 3.0), (2, 0, 5.0)]\n"
     ]
    }
   ],
   "source": [
    "def tilMatrise(numberOfNodes, network):\n",
    "    n = numberOfNodes\n",
    "    matrix = np.zeros((n, n))\n",
    "    \n",
    "    for row, col, value in network:\n",
    "        matrix[row][col] = value\n",
    "    \n",
    "    for i in range(n):\n",
    "        matrix[i][i] = -np.sum(matrix[i])\n",
    "    \n",
    "    return matrix\n",
    "\n",
    "def tilNettverk(matrix):\n",
    "    network = []\n",
    "    m, n = np.shape(matrix)\n",
    "    \n",
    "    for row in range(m):\n",
    "        for col in range(n):\n",
    "            if row != col and matrix[row][col] != 0:\n",
    "                network.append((row, col, matrix[row][col]))\n",
    "                \n",
    "    return network\n",
    "\n",
    "N = [(0, 1, 2.0), (1, 0, 3.0), (0, 2, 4.0), (2,0,5.0)]\n",
    "M = np.array([\n",
    "    [-6.0, 2.0, 4.0],\n",
    "    [3.0, -3.0, 0.0],\n",
    "    [5.0, 0.0, -5.0]\n",
    "])\n",
    "\n",
    "print(tilMatrise(3,N))\n",
    "print(tilNettverk(M))"
   ]
  },
  {
   "cell_type": "markdown",
   "id": "b8948bab",
   "metadata": {},
   "source": [
    "## En klasse for nettverk\n",
    "\n",
    "Vi bygger litt videre på ideen fra den første forelesningen og legger nettverket inn en klasse. Du kan legge inn funksjonene du lagde over.\n",
    "\n",
    "Pass på at alt virker før du går videre.\n"
   ]
  },
  {
   "cell_type": "code",
   "execution_count": 31,
   "id": "4b99abed",
   "metadata": {},
   "outputs": [
    {
     "name": "stdout",
     "output_type": "stream",
     "text": [
      "Antall noder er 3 med piler [(0, 1, 2.0), (1, 0, 3.0), (0, 2, 4.0), (2, 0, 5.0)]\n",
      "Matrisen til N er [[-6.  2.  4.]\n",
      " [ 3. -3.  0.]\n",
      " [ 5.  0. -5.]]\n",
      "Antall noder er 3 med piler [(0, 1, 2.0), (1, 0, 3.0), (0, 2, 4.0), (2, 0, 5.0)]\n"
     ]
    }
   ],
   "source": [
    "class Nettverk:\n",
    "    _piler = []\n",
    "    _antallNoder = 0\n",
    "    def __init__(self, antallNoder):\n",
    "        self._antallNoder = antallNoder\n",
    "       \n",
    "    def __str__(self):\n",
    "        return \"Antall noder er \" + str(self._antallNoder) + \" med piler \" + str(self._piler)\n",
    "       \n",
    "    def leggTilNoder(self, antallNyeNoder):\n",
    "        self._antallNoder += antallNyeNoder\n",
    "\n",
    "    def leggTilPil(self, pil):\n",
    "        self._piler.append(pil)\n",
    "\n",
    "    def leggTilPiler(self, listeNyePiler):\n",
    "        self._piler += listeNyePiler\n",
    "       \n",
    "    def tilMatrise(self):\n",
    "        n = self._antallNoder\n",
    "        matrix = np.zeros((n, n))\n",
    "        \n",
    "        for row, col, value in self._piler:\n",
    "            matrix[row][col] = value\n",
    "        \n",
    "        for i in range(n):\n",
    "            matrix[i][i] = -np.sum(matrix[i])\n",
    "        \n",
    "        return matrix\n",
    "    \n",
    "    def fraMatrise(self, matrix):\n",
    "        network = []\n",
    "        m, n = np.shape(matrix)\n",
    "    \n",
    "        for row in range(m):\n",
    "            for col in range(n):\n",
    "                if row != col and matrix[row][col] != 0:\n",
    "                    network.append((row, col, matrix[row][col]))\n",
    "                    \n",
    "        return network\n",
    "    \n",
    "N = Nettverk(3)  # et nettverk med 3 noder\n",
    "N.leggTilPiler([(0, 1, 2.0), (1, 0, 3.0), (0, 2, 4.0), (2,0,5.0)])\n",
    "print(N)\n",
    "print(\"Matrisen til N er\", N.tilMatrise())\n",
    "M = np.array([[0.0, 2.0, 4.0],[3.0, 0.0, 0.0], [5.0, 0.0, 0.0]])\n",
    "N.fraMatrise(M)\n",
    "print(N)\n"
   ]
  },
  {
   "cell_type": "markdown",
   "id": "cb15da29",
   "metadata": {},
   "source": [
    "## Oppgave 2\n",
    "\n",
    "Gjør implementasjonen av \"leggTilPil\" og \"leggTilPiler\" litt mer brukervennlig. \n",
    "\n",
    "a) Skriv ut en feilmelding hvis noen prøver å legge til en løkke (f.eks. pil (1,1,1.0))\n",
    "\n",
    "b) Skriv ut en feilmelding hvis noen prøver å legge til en pil som referer til en node som ikke finnes. F.eks. hvis vi har 4 noder, så har disse navn 0,1,2,3, så det skal komme feilmelding hvis noen prøver for eksempel å legge til pilen (1,4,0.1), da vi ikke har noen node med navn 4. \n",
    "\n",
    "Det skal være informasjon om hva som er feil i feilmeldingene!\n",
    "\n",
    "Du kan teste hva du har gjort med koden under.\n",
    "\n",
    "Bonus: Du kan også prøve å gjøre \"fraMatrise\" mer brukervennlig ved å skrive feilmelding hvis matrisen har feil format."
   ]
  },
  {
   "cell_type": "code",
   "execution_count": 29,
   "id": "5504928e",
   "metadata": {},
   "outputs": [],
   "source": [
    "class Nettverk:\n",
    "    _piler = []\n",
    "    _antallNoder = 0\n",
    "    def __init__(self, antallNoder):\n",
    "        self._antallNoder = antallNoder\n",
    "       \n",
    "    def __str__(self):\n",
    "        return \"Antall noder er \" + str(self._antallNoder) + \" med piler \" + str(self._piler)\n",
    "       \n",
    "    def leggTilNoder(self, antallNyeNoder):\n",
    "        self._antallNoder += antallNyeNoder\n",
    "\n",
    "    def leggTilPil(self, pil):        \n",
    "        if pil[0] == pil[1]:\n",
    "            raise ValueError(\"an arrow can not have the same start and end node\")\n",
    "        if not 0 <= pil[0] <= self._antallNoder or not 0 <= pil[1] <= self._antallNoder:\n",
    "            raise ValueError(\"arrow can not point to a node that does not exist\")\n",
    "        \n",
    "        self._piler.append(pil)\n",
    "\n",
    "    def leggTilPiler(self, listeNyePiler):\n",
    "        for pil in listeNyePiler:\n",
    "            if pil[0] == pil[1]:\n",
    "                raise ValueError(\"an arrow can not have the same start and end node\")\n",
    "            if not 0 <= pil[0] <= self._antallNoder or not 0 <= pil[1] <= self._antallNoder:\n",
    "                raise ValueError(\"arrow can not point to a node that does not exist\")\n",
    "        \n",
    "        self._piler += listeNyePiler\n",
    "        \n",
    "    def tilMatrise(self):\n",
    "        n = self._antallNoder\n",
    "        matrix = np.zeros((n, n))\n",
    "        \n",
    "        for row, col, value in self._piler:\n",
    "            matrix[row][col] = value\n",
    "        \n",
    "        for i in range(n):\n",
    "            matrix[i][i] = -np.sum(matrix[i])\n",
    "        \n",
    "        return matrix\n",
    "    \n",
    "    def fraMatrise(self, matrix):\n",
    "        network = []\n",
    "        m, n = np.shape(matrix)\n",
    "    \n",
    "        for row in range(m):\n",
    "            for col in range(n):\n",
    "                if row != col and matrix[row][col] != 0:\n",
    "                    network.append((row, col, matrix[row][col]))\n",
    "                    \n",
    "        return network"
   ]
  },
  {
   "cell_type": "code",
   "execution_count": 30,
   "id": "afe66038",
   "metadata": {},
   "outputs": [
    {
     "name": "stdout",
     "output_type": "stream",
     "text": [
      "(0, 0, 0.2)\n"
     ]
    },
    {
     "ename": "ValueError",
     "evalue": "an arrow can not have the same start and end node",
     "output_type": "error",
     "traceback": [
      "\u001b[0;31m---------------------------------------------------------------------------\u001b[0m",
      "\u001b[0;31mValueError\u001b[0m                                Traceback (most recent call last)",
      "\u001b[1;32m/home/conradosvik/code/IMAT1002/GruppeOppgave2/Data_Oving2_Oppgave.ipynb Cell 12\u001b[0m line \u001b[0;36m5\n\u001b[1;32m      <a href='vscode-notebook-cell://wsl%2Bubuntu/home/conradosvik/code/IMAT1002/GruppeOppgave2/Data_Oving2_Oppgave.ipynb#X14sdnNjb2RlLXJlbW90ZQ%3D%3D?line=0'>1</a>\u001b[0m \u001b[39m#\u001b[39;00m\n\u001b[1;32m      <a href='vscode-notebook-cell://wsl%2Bubuntu/home/conradosvik/code/IMAT1002/GruppeOppgave2/Data_Oving2_Oppgave.ipynb#X14sdnNjb2RlLXJlbW90ZQ%3D%3D?line=1'>2</a>\u001b[0m \u001b[39m# Når du tester klassen din så skal det skrives ut feilmeldinger her.\u001b[39;00m\n\u001b[1;32m      <a href='vscode-notebook-cell://wsl%2Bubuntu/home/conradosvik/code/IMAT1002/GruppeOppgave2/Data_Oving2_Oppgave.ipynb#X14sdnNjb2RlLXJlbW90ZQ%3D%3D?line=2'>3</a>\u001b[0m \u001b[39m#\u001b[39;00m\n\u001b[1;32m      <a href='vscode-notebook-cell://wsl%2Bubuntu/home/conradosvik/code/IMAT1002/GruppeOppgave2/Data_Oving2_Oppgave.ipynb#X14sdnNjb2RlLXJlbW90ZQ%3D%3D?line=3'>4</a>\u001b[0m N \u001b[39m=\u001b[39m Nettverk(\u001b[39m4\u001b[39m)\n\u001b[0;32m----> <a href='vscode-notebook-cell://wsl%2Bubuntu/home/conradosvik/code/IMAT1002/GruppeOppgave2/Data_Oving2_Oppgave.ipynb#X14sdnNjb2RlLXJlbW90ZQ%3D%3D?line=4'>5</a>\u001b[0m N\u001b[39m.\u001b[39;49mleggTilPil((\u001b[39m0\u001b[39;49m,\u001b[39m0\u001b[39;49m,\u001b[39m0.2\u001b[39;49m))\n\u001b[1;32m      <a href='vscode-notebook-cell://wsl%2Bubuntu/home/conradosvik/code/IMAT1002/GruppeOppgave2/Data_Oving2_Oppgave.ipynb#X14sdnNjb2RlLXJlbW90ZQ%3D%3D?line=5'>6</a>\u001b[0m N\u001b[39m.\u001b[39mleggTilPil((\u001b[39m1\u001b[39m,\u001b[39m4\u001b[39m,\u001b[39m0.1\u001b[39m))\n\u001b[1;32m      <a href='vscode-notebook-cell://wsl%2Bubuntu/home/conradosvik/code/IMAT1002/GruppeOppgave2/Data_Oving2_Oppgave.ipynb#X14sdnNjb2RlLXJlbW90ZQ%3D%3D?line=6'>7</a>\u001b[0m N\u001b[39m.\u001b[39mleggTilPil((\u001b[39m1\u001b[39m,\u001b[39m-\u001b[39m\u001b[39m1\u001b[39m,\u001b[39m0.1\u001b[39m))\n",
      "\u001b[1;32m/home/conradosvik/code/IMAT1002/GruppeOppgave2/Data_Oving2_Oppgave.ipynb Cell 12\u001b[0m line \u001b[0;36m1\n\u001b[1;32m     <a href='vscode-notebook-cell://wsl%2Bubuntu/home/conradosvik/code/IMAT1002/GruppeOppgave2/Data_Oving2_Oppgave.ipynb#X14sdnNjb2RlLXJlbW90ZQ%3D%3D?line=13'>14</a>\u001b[0m \u001b[39mprint\u001b[39m(pil)\n\u001b[1;32m     <a href='vscode-notebook-cell://wsl%2Bubuntu/home/conradosvik/code/IMAT1002/GruppeOppgave2/Data_Oving2_Oppgave.ipynb#X14sdnNjb2RlLXJlbW90ZQ%3D%3D?line=15'>16</a>\u001b[0m \u001b[39mif\u001b[39;00m pil[\u001b[39m0\u001b[39m] \u001b[39m==\u001b[39m pil[\u001b[39m1\u001b[39m]:\n\u001b[0;32m---> <a href='vscode-notebook-cell://wsl%2Bubuntu/home/conradosvik/code/IMAT1002/GruppeOppgave2/Data_Oving2_Oppgave.ipynb#X14sdnNjb2RlLXJlbW90ZQ%3D%3D?line=16'>17</a>\u001b[0m     \u001b[39mraise\u001b[39;00m \u001b[39mValueError\u001b[39;00m(\u001b[39m\"\u001b[39m\u001b[39man arrow can not have the same start and end node\u001b[39m\u001b[39m\"\u001b[39m)\n\u001b[1;32m     <a href='vscode-notebook-cell://wsl%2Bubuntu/home/conradosvik/code/IMAT1002/GruppeOppgave2/Data_Oving2_Oppgave.ipynb#X14sdnNjb2RlLXJlbW90ZQ%3D%3D?line=17'>18</a>\u001b[0m \u001b[39mif\u001b[39;00m \u001b[39mnot\u001b[39;00m \u001b[39m0\u001b[39m \u001b[39m<\u001b[39m\u001b[39m=\u001b[39m pil[\u001b[39m0\u001b[39m] \u001b[39m<\u001b[39m\u001b[39m=\u001b[39m \u001b[39mself\u001b[39m\u001b[39m.\u001b[39m_antallNoder \u001b[39mor\u001b[39;00m \u001b[39mnot\u001b[39;00m \u001b[39m0\u001b[39m \u001b[39m<\u001b[39m\u001b[39m=\u001b[39m pil[\u001b[39m1\u001b[39m] \u001b[39m<\u001b[39m\u001b[39m=\u001b[39m \u001b[39mself\u001b[39m\u001b[39m.\u001b[39m_antallNoder:\n\u001b[1;32m     <a href='vscode-notebook-cell://wsl%2Bubuntu/home/conradosvik/code/IMAT1002/GruppeOppgave2/Data_Oving2_Oppgave.ipynb#X14sdnNjb2RlLXJlbW90ZQ%3D%3D?line=18'>19</a>\u001b[0m     \u001b[39mraise\u001b[39;00m \u001b[39mValueError\u001b[39;00m(\u001b[39m\"\u001b[39m\u001b[39marrow can not point to a node that does not exist\u001b[39m\u001b[39m\"\u001b[39m)\n",
      "\u001b[0;31mValueError\u001b[0m: an arrow can not have the same start and end node"
     ]
    }
   ],
   "source": [
    "#\n",
    "# Når du tester klassen din så skal det skrives ut feilmeldinger her.\n",
    "#\n",
    "N = Nettverk(4)\n",
    "N.leggTilPil((0,0,0.2))\n",
    "N.leggTilPil((1,4,0.1))\n",
    "N.leggTilPil((1,-1,0.1))\n",
    "N.leggTilPiler([(1,4,0.1), (1,-1,0.1)])"
   ]
  },
  {
   "cell_type": "markdown",
   "id": "adee32de",
   "metadata": {},
   "source": [
    "## Lineære dynamiske systemer og Eulers metode\n",
    "\n",
    "Vi ser på det dynamiske systemet gitt ved et system av ordinære lineære differensiallikninger (med konstante koeffisienter).\n",
    "\n",
    "$$\n",
    "y' = y \\cdot A\n",
    "$$\n",
    "\n",
    "Her er $A$ en konstant matrise, og $y'$ og $y$ er vektorer hvor $(y')_i = \\frac{dy_i}{dt}$.\n",
    "\n",
    "(Hvis vi hadde jobbet med kolonnevektorer så ville systemet ha vært $y' = A\\cdot y$.)\n",
    "\n",
    "### Initialverdier og randbetingelser\n",
    "\n",
    "Vi har gjerne en verdi $y(t_0)$ som bestemmer tilstanden når systemet starter. Dette kalles en \"initialverdi\".\n",
    "\n",
    "I tillegg så kan det for noen $i$ være slik at $y(t)_i=y_i$ for alle $t$. Dvs. verdien til $y(t)_i$ holdes konstant uavhengig av $t$. Dette er et eksempel på det som kalles en \"randbetingelse\".\n",
    "\n",
    "Både initialverdier og randbetingelser er nyttige når vi analyserer nettverk. Vi kommer til å holde oss til initialverdier for denne gang. \n",
    "\n",
    "Vi skal løse systemet $y' = y\\cdot A$ numerisk med Eulers metode.\n",
    "\n"
   ]
  },
  {
   "cell_type": "code",
   "execution_count": 21,
   "id": "8a8c5225",
   "metadata": {},
   "outputs": [
    {
     "name": "stdout",
     "output_type": "stream",
     "text": [
      "[0.52173913 0.47826087]\n"
     ]
    }
   ],
   "source": [
    "#\n",
    "# Implementasjon av Eulers metode\n",
    "#\n",
    "\n",
    "A = np.array([[-1.1, 1.1],[1.2,-1.2]]) # Systemet er y' = y @ A\n",
    "y = np.array([1.0,0.0])                # initialverdibetingelse y(start)\n",
    "\n",
    "start = 0.0   # starttid\n",
    "stopp = 10.0   # slutttid\n",
    "dt = 0.001    # skrittlengde\n",
    "t = start\n",
    "while t < stopp + dt:\n",
    "    y = y + dt * (y @ A)\n",
    "    t += dt\n",
    "print(y)"
   ]
  },
  {
   "cell_type": "markdown",
   "id": "c97ceac0",
   "metadata": {},
   "source": [
    "### Oppgave 3\n",
    "\n",
    "Legg til metoden \"euler\" med parametre starttid, stopptid, initialverdier, skrittlengde i klassen Nettverk. \n",
    "\n",
    "Metoden \"euler\" skal kalle metoden \"fraMatrise\" for å lage matrisen A i eksemplet over. \n",
    "\n",
    "Når du er ferdig så kan du teste ved å se om koden under gi akkurat samme resultat som over."
   ]
  },
  {
   "cell_type": "code",
   "execution_count": 23,
   "id": "c8298720",
   "metadata": {},
   "outputs": [],
   "source": [
    "class Nettverk:\n",
    "    _piler = []\n",
    "    _antallNoder = 0\n",
    "    def __init__(self, antallNoder):\n",
    "        self._antallNoder = antallNoder\n",
    "       \n",
    "    def __str__(self):\n",
    "        return \"Antall noder er \" + str(self._antallNoder) + \" med piler \" + str(self._piler)\n",
    "       \n",
    "    def leggTilNoder(self, antallNyeNoder):\n",
    "        self._antallNoder += antallNyeNoder\n",
    "\n",
    "    def leggTilPil(self, pil):\n",
    "        print(pil)\n",
    "        \n",
    "        if pil[0] == pil[1]:\n",
    "            raise ValueError(\"an arrow can not have the same start and end node\")\n",
    "        if not 0 <= pil[0] <= self._antallNoder or not 0 <= pil[1] <= self._antallNoder:\n",
    "            raise ValueError(\"arrow can not point to a node that does not exist\")\n",
    "        \n",
    "        self._piler.append(pil)\n",
    "\n",
    "    def leggTilPiler(self, listeNyePiler):\n",
    "        for pil in listeNyePiler:\n",
    "            if pil[0] == pil[1]:\n",
    "                raise ValueError(\"an arrow can not have the same start and end node\")\n",
    "            if not 0 <= pil[0] <= self._antallNoder or not 0 <= pil[1] <= self._antallNoder:\n",
    "                raise ValueError(\"arrow can not point to a node that does not exist\")\n",
    "        \n",
    "        self._piler += listeNyePiler\n",
    "        \n",
    "    def tilMatrise(self):\n",
    "        max_index = max(max(i, j) for i, j, w in self._piler)\n",
    "    \n",
    "        matrix_size = max_index + 1\n",
    "        \n",
    "        matrix = np.zeros((matrix_size, matrix_size))\n",
    "        \n",
    "        for i, j, w in self._piler:\n",
    "            matrix[i][j] = w\n",
    "        \n",
    "        for i in range(matrix_size):\n",
    "            matrix[i][i] = -np.sum(matrix[i])\n",
    "        \n",
    "        return matrix\n",
    "    \n",
    "    def fraMatrise(self, matrix):\n",
    "        network = []\n",
    "    \n",
    "        num_rows, num_cols = matrix.shape\n",
    "        \n",
    "        for i in range(num_rows):\n",
    "            for j in range(num_cols):\n",
    "                if i != j and matrix[i][j] != 0:\n",
    "                    network.append((i,j,matrix[i][j]))\n",
    "                    \n",
    "        return network\n",
    "    \n",
    "    def euler(self, start, stopp, y, h):\n",
    "        A = self.tilMatrise()\n",
    "        t = start\n",
    "        \n",
    "        while t < stopp + h:\n",
    "            y += y + h * (y @ A)\n",
    "            t += h\n",
    "        return y\n",
    "    "
   ]
  },
  {
   "cell_type": "code",
   "execution_count": 24,
   "id": "df0e30c6",
   "metadata": {},
   "outputs": [
    {
     "ename": "ValueError",
     "evalue": "max() arg is an empty sequence",
     "output_type": "error",
     "traceback": [
      "\u001b[0;31m---------------------------------------------------------------------------\u001b[0m",
      "\u001b[0;31mValueError\u001b[0m                                Traceback (most recent call last)",
      "\u001b[1;32m/home/conradosvik/code/IMAT1002/GruppeOppgave2/Data_Oving2_Oppgave.ipynb Cell 17\u001b[0m line \u001b[0;36m1\n\u001b[1;32m     <a href='vscode-notebook-cell://wsl%2Bubuntu/home/conradosvik/code/IMAT1002/GruppeOppgave2/Data_Oving2_Oppgave.ipynb#X22sdnNjb2RlLXJlbW90ZQ%3D%3D?line=10'>11</a>\u001b[0m stopp \u001b[39m=\u001b[39m \u001b[39m10.0\u001b[39m  \n\u001b[1;32m     <a href='vscode-notebook-cell://wsl%2Bubuntu/home/conradosvik/code/IMAT1002/GruppeOppgave2/Data_Oving2_Oppgave.ipynb#X22sdnNjb2RlLXJlbW90ZQ%3D%3D?line=11'>12</a>\u001b[0m dt \u001b[39m=\u001b[39m \u001b[39m0.001\u001b[39m   \n\u001b[0;32m---> <a href='vscode-notebook-cell://wsl%2Bubuntu/home/conradosvik/code/IMAT1002/GruppeOppgave2/Data_Oving2_Oppgave.ipynb#X22sdnNjb2RlLXJlbW90ZQ%3D%3D?line=12'>13</a>\u001b[0m resultat \u001b[39m=\u001b[39m N\u001b[39m.\u001b[39;49meuler(start, stopp, y0, dt)\n\u001b[1;32m     <a href='vscode-notebook-cell://wsl%2Bubuntu/home/conradosvik/code/IMAT1002/GruppeOppgave2/Data_Oving2_Oppgave.ipynb#X22sdnNjb2RlLXJlbW90ZQ%3D%3D?line=13'>14</a>\u001b[0m \u001b[39mprint\u001b[39m(resultat)\n",
      "\u001b[1;32m/home/conradosvik/code/IMAT1002/GruppeOppgave2/Data_Oving2_Oppgave.ipynb Cell 17\u001b[0m line \u001b[0;36m6\n\u001b[1;32m     <a href='vscode-notebook-cell://wsl%2Bubuntu/home/conradosvik/code/IMAT1002/GruppeOppgave2/Data_Oving2_Oppgave.ipynb#X22sdnNjb2RlLXJlbW90ZQ%3D%3D?line=58'>59</a>\u001b[0m \u001b[39mdef\u001b[39;00m \u001b[39meuler\u001b[39m(\u001b[39mself\u001b[39m, start, stopp, y, h):\n\u001b[0;32m---> <a href='vscode-notebook-cell://wsl%2Bubuntu/home/conradosvik/code/IMAT1002/GruppeOppgave2/Data_Oving2_Oppgave.ipynb#X22sdnNjb2RlLXJlbW90ZQ%3D%3D?line=59'>60</a>\u001b[0m     A \u001b[39m=\u001b[39m \u001b[39mself\u001b[39;49m\u001b[39m.\u001b[39;49mtilMatrise()\n\u001b[1;32m     <a href='vscode-notebook-cell://wsl%2Bubuntu/home/conradosvik/code/IMAT1002/GruppeOppgave2/Data_Oving2_Oppgave.ipynb#X22sdnNjb2RlLXJlbW90ZQ%3D%3D?line=60'>61</a>\u001b[0m     t \u001b[39m=\u001b[39m start\n\u001b[1;32m     <a href='vscode-notebook-cell://wsl%2Bubuntu/home/conradosvik/code/IMAT1002/GruppeOppgave2/Data_Oving2_Oppgave.ipynb#X22sdnNjb2RlLXJlbW90ZQ%3D%3D?line=62'>63</a>\u001b[0m     \u001b[39mwhile\u001b[39;00m t \u001b[39m<\u001b[39m stopp \u001b[39m+\u001b[39m h:\n",
      "\u001b[1;32m/home/conradosvik/code/IMAT1002/GruppeOppgave2/Data_Oving2_Oppgave.ipynb Cell 17\u001b[0m line \u001b[0;36m3\n\u001b[1;32m     <a href='vscode-notebook-cell://wsl%2Bubuntu/home/conradosvik/code/IMAT1002/GruppeOppgave2/Data_Oving2_Oppgave.ipynb#X22sdnNjb2RlLXJlbW90ZQ%3D%3D?line=31'>32</a>\u001b[0m \u001b[39mdef\u001b[39;00m \u001b[39mtilMatrise\u001b[39m(\u001b[39mself\u001b[39m):\n\u001b[0;32m---> <a href='vscode-notebook-cell://wsl%2Bubuntu/home/conradosvik/code/IMAT1002/GruppeOppgave2/Data_Oving2_Oppgave.ipynb#X22sdnNjb2RlLXJlbW90ZQ%3D%3D?line=32'>33</a>\u001b[0m     max_index \u001b[39m=\u001b[39m \u001b[39mmax\u001b[39;49m(\u001b[39mmax\u001b[39;49m(i, j) \u001b[39mfor\u001b[39;49;00m i, j, w \u001b[39min\u001b[39;49;00m \u001b[39mself\u001b[39;49m\u001b[39m.\u001b[39;49m_piler)\n\u001b[1;32m     <a href='vscode-notebook-cell://wsl%2Bubuntu/home/conradosvik/code/IMAT1002/GruppeOppgave2/Data_Oving2_Oppgave.ipynb#X22sdnNjb2RlLXJlbW90ZQ%3D%3D?line=34'>35</a>\u001b[0m     matrix_size \u001b[39m=\u001b[39m max_index \u001b[39m+\u001b[39m \u001b[39m1\u001b[39m\n\u001b[1;32m     <a href='vscode-notebook-cell://wsl%2Bubuntu/home/conradosvik/code/IMAT1002/GruppeOppgave2/Data_Oving2_Oppgave.ipynb#X22sdnNjb2RlLXJlbW90ZQ%3D%3D?line=36'>37</a>\u001b[0m     matrix \u001b[39m=\u001b[39m np\u001b[39m.\u001b[39mzeros((matrix_size, matrix_size))\n",
      "\u001b[0;31mValueError\u001b[0m: max() arg is an empty sequence"
     ]
    }
   ],
   "source": [
    "#\n",
    "# Du kan teste ved å kjøre dette\n",
    "#\n",
    "\n",
    "A = np.array([[-1.1, 1.1],[1.2,-1.2]]) \n",
    "y0 = np.array([1.0,0.0]) \n",
    "N = Nettverk(2)\n",
    "N.fraMatrise(A)\n",
    "\n",
    "start = 0.0  \n",
    "stopp = 10.0  \n",
    "dt = 0.001   \n",
    "resultat = N.euler(start, stopp, y0, dt)\n",
    "print(resultat)"
   ]
  },
  {
   "cell_type": "markdown",
   "id": "71b48824",
   "metadata": {},
   "source": [
    "## En modell for websurfing\n",
    "\n",
    "Vi skal lage en enkel modell for webtrafikk. Nodene i nettverket er websider. \n",
    "\n",
    "Vi tenker oss at noen (eller noe) som surfer på nettet gjør en av følgende to ting\n",
    "\n",
    "1. De leser litt på en side, før de følger en lenke til en annen side, eller\n",
    "\n",
    "2. De leser litt på en side, før de hopper til en annen vilkårlig annen side i nettet.\n",
    "\n",
    "Det er ingen løkker i dette nettverket.\n",
    "\n",
    "1. Det er en pil i->j hvis det er en lenke fra side i til side j. Pilen $i->j$ har vekt $0.8$.\n",
    "\n",
    "2. Det er en pil fra hver node til alle andre noder i nettverket. Alle disse pilene har en vekt $0.2$.\n",
    "\n",
    "Slik at du slipper å skrive så mye, så gir vi et tips under om hvordan vi kan lage matrisen for 2. i feltet under. Du kan ignorere dette om du vil.\n",
    "\n",
    "Vi ser på et enkelt eksempel med 6 websider med navn 0,..,5. Vi har følgende lenker mellom sidene:\n",
    "\n",
    "0->1\n",
    "\n",
    "1->2\n",
    "\n",
    "2->1\n",
    "\n",
    "3->0\n",
    "\n",
    "3->1\n",
    "\n",
    "4->1\n",
    "\n",
    "4->3\n",
    "\n",
    "4->5\n",
    "\n",
    "5->1\n",
    "\n",
    "5->4\n",
    "\n",
    "\n",
    "## Oppgave \n",
    "\n",
    "a) Lag nettverket med riktige vekter, hvor du tar både adferden 1. og 2. med i betraktning.\n",
    "\n",
    "Vi kan da se hvordan webtraffikken utvikler seg over tid ved å bruke Eulers metode. Vi bruker\n",
    "intialverdien $y(0) = (1,0,0,0,0,0)$. Dvs. alle er på side $0$ når vi starter. $y(t)$ vil gi prosentvis fordeling\n",
    "av surferne ved tid $t$.\n",
    "\n",
    "b) Bruk Eulers metode til å se fordeling av surferne ved tid t = 1.0 og t = 2.0. Pass på at skrittlengden er liten nok til at du får konvergens.\n",
    "\n",
    "c) Eksperimenter med større verdier for $t$ og prøv å finn ut hva som skjer når $t\\rightarrow \\infty$.\n",
    "\n",
    "d) Hvilken av disse sidene er mest populær?\n"
   ]
  },
  {
   "cell_type": "code",
   "execution_count": 60,
   "id": "3d7b2aa6",
   "metadata": {},
   "outputs": [
    {
     "name": "stdout",
     "output_type": "stream",
     "text": [
      "[[-5.  1.  1.  1.  1.  1.]\n",
      " [ 1. -5.  1.  1.  1.  1.]\n",
      " [ 1.  1. -5.  1.  1.  1.]\n",
      " [ 1.  1.  1. -5.  1.  1.]\n",
      " [ 1.  1.  1.  1. -5.  1.]\n",
      " [ 1.  1.  1.  1.  1. -5.]]\n"
     ]
    }
   ],
   "source": [
    "#\n",
    "# Tips om hvordan du kan lage matrise for del 2. Vi tar differansen av en matrise med bare 1'ere med identitetsmatrisen\n",
    "\n",
    "H = np.ones(shape=(6,6)) - 6.0*np.eye(6)\n",
    "print(H)\n"
   ]
  },
  {
   "cell_type": "code",
   "execution_count": 61,
   "id": "d8eb0399",
   "metadata": {},
   "outputs": [],
   "source": [
    "#\n",
    "# Lever svaret ditt her\n",
    "#"
   ]
  }
 ],
 "metadata": {
  "kernelspec": {
   "display_name": "Python 3",
   "language": "python",
   "name": "python3"
  },
  "language_info": {
   "codemirror_mode": {
    "name": "ipython",
    "version": 3
   },
   "file_extension": ".py",
   "mimetype": "text/x-python",
   "name": "python",
   "nbconvert_exporter": "python",
   "pygments_lexer": "ipython3",
   "version": "3.10.12"
  }
 },
 "nbformat": 4,
 "nbformat_minor": 5
}
